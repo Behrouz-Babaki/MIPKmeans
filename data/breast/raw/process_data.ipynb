{
 "cells": [
  {
   "cell_type": "code",
   "execution_count": null,
   "metadata": {
    "collapsed": true
   },
   "outputs": [],
   "source": [
    "def process_breast_data(fname):\n",
    "    instances = []\n",
    "    labels = []\n",
    "    with open(fname) as f:\n",
    "        for line in f:\n",
    "            row = line.strip().split(',')\n",
    "            row_id = int(row[0])\n",
    "            coords = row[1:-1]\n",
    "            row_label = int(row[-1])\n",
    "            coords = [int(x) if x!='?' else 1 for x in coords]\n",
    "            instances.append(coords)\n",
    "            labels.append(row_label)\n",
    "    return instances, labels"
   ]
  },
  {
   "cell_type": "code",
   "execution_count": null,
   "metadata": {
    "collapsed": false
   },
   "outputs": [],
   "source": [
    "def create_breast_constraints(instances, labels, ncons):\n",
    "    from random import randint\n",
    "    \n",
    "    constraints = []\n",
    "    assert(len(instances) == len(labels))\n",
    "    n_instances = len(instances)\n",
    "    for i in range(ncons):\n",
    "            d1 = randint(0, n_instances-1)\n",
    "            d2 = randint(0, n_instances-1)\n",
    "            if labels[d1] == labels[d2]:\n",
    "                c = (d1, d2, 1)\n",
    "            else:\n",
    "                c = (d1, d2, -1)\n",
    "            constraints.append(c)\n",
    "    return constraints"
   ]
  },
  {
   "cell_type": "code",
   "execution_count": null,
   "metadata": {
    "collapsed": true
   },
   "outputs": [],
   "source": [
    "fname = './breast-cancer-wisconsin.data'\n",
    "instances, labels = process_breast_data(fname)\n",
    "with open('../breast.data', 'w') as f:\n",
    "    for instance in instances:\n",
    "        print(' '.join(str(x) for x in instance), file=f)"
   ]
  },
  {
   "cell_type": "code",
   "execution_count": null,
   "metadata": {
    "collapsed": false
   },
   "outputs": [],
   "source": [
    "instances, labels = process_breast_data(fname)\n",
    "for i in [5, 10, 50, 100, 200, 500]:\n",
    "    constraints = create_breast_constraints(instances, labels, i)\n",
    "    with open('../constraints/breast.%d.cons'%i, 'w') as f:\n",
    "        for c in constraints:\n",
    "            print(' '.join(str(x) for x in c), file=f)"
   ]
  }
 ],
 "metadata": {
  "kernelspec": {
   "display_name": "Python 3",
   "language": "python",
   "name": "python3"
  },
  "language_info": {
   "codemirror_mode": {
    "name": "ipython",
    "version": 3
   },
   "file_extension": ".py",
   "mimetype": "text/x-python",
   "name": "python",
   "nbconvert_exporter": "python",
   "pygments_lexer": "ipython3",
   "version": "3.4.3"
  }
 },
 "nbformat": 4,
 "nbformat_minor": 0
}
